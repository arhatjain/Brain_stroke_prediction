{
  "cells": [
    {
      "cell_type": "markdown",
      "source": [
        "# **Importing library**"
      ],
      "metadata": {
        "id": "20sRqX9f8wu1"
      }
    },
    {
      "cell_type": "code",
      "execution_count": null,
      "metadata": {
        "id": "VxXubu9v8quY"
      },
      "outputs": [],
      "source": [
        "#importing library for computation\n",
        "import numpy as np\n",
        "import pandas as pd"
      ]
    },
    {
      "cell_type": "markdown",
      "source": [
        "# **Loading dataset**"
      ],
      "metadata": {
        "id": "vlL9JzXh85sq"
      }
    },
    {
      "cell_type": "markdown",
      "source": [
        ""
      ],
      "metadata": {
        "id": "qVkiJn7985p7"
      }
    },
    {
      "cell_type": "code",
      "execution_count": null,
      "metadata": {
        "id": "RtV45e2Q8quZ",
        "outputId": "3d19a675-d878-41e7-f943-515e41ed9419"
      },
      "outputs": [
        {
          "data": {
            "text/html": [
              "<div>\n",
              "<style scoped>\n",
              "    .dataframe tbody tr th:only-of-type {\n",
              "        vertical-align: middle;\n",
              "    }\n",
              "\n",
              "    .dataframe tbody tr th {\n",
              "        vertical-align: top;\n",
              "    }\n",
              "\n",
              "    .dataframe thead th {\n",
              "        text-align: right;\n",
              "    }\n",
              "</style>\n",
              "<table border=\"1\" class=\"dataframe\">\n",
              "  <thead>\n",
              "    <tr style=\"text-align: right;\">\n",
              "      <th></th>\n",
              "      <th>id</th>\n",
              "      <th>gender</th>\n",
              "      <th>age</th>\n",
              "      <th>hypertension</th>\n",
              "      <th>heart_disease</th>\n",
              "      <th>ever_married</th>\n",
              "      <th>work_type</th>\n",
              "      <th>Residence_type</th>\n",
              "      <th>avg_glucose_level</th>\n",
              "      <th>bmi</th>\n",
              "      <th>smoking_status</th>\n",
              "      <th>stroke</th>\n",
              "    </tr>\n",
              "  </thead>\n",
              "  <tbody>\n",
              "    <tr>\n",
              "      <td>0</td>\n",
              "      <td>9046</td>\n",
              "      <td>Male</td>\n",
              "      <td>67.0</td>\n",
              "      <td>0</td>\n",
              "      <td>1</td>\n",
              "      <td>Yes</td>\n",
              "      <td>Private</td>\n",
              "      <td>Urban</td>\n",
              "      <td>228.69</td>\n",
              "      <td>36.6</td>\n",
              "      <td>formerly smoked</td>\n",
              "      <td>1</td>\n",
              "    </tr>\n",
              "    <tr>\n",
              "      <td>1</td>\n",
              "      <td>51676</td>\n",
              "      <td>Female</td>\n",
              "      <td>61.0</td>\n",
              "      <td>0</td>\n",
              "      <td>0</td>\n",
              "      <td>Yes</td>\n",
              "      <td>Self-employed</td>\n",
              "      <td>Rural</td>\n",
              "      <td>202.21</td>\n",
              "      <td>NaN</td>\n",
              "      <td>never smoked</td>\n",
              "      <td>1</td>\n",
              "    </tr>\n",
              "    <tr>\n",
              "      <td>2</td>\n",
              "      <td>31112</td>\n",
              "      <td>Male</td>\n",
              "      <td>80.0</td>\n",
              "      <td>0</td>\n",
              "      <td>1</td>\n",
              "      <td>Yes</td>\n",
              "      <td>Private</td>\n",
              "      <td>Rural</td>\n",
              "      <td>105.92</td>\n",
              "      <td>32.5</td>\n",
              "      <td>never smoked</td>\n",
              "      <td>1</td>\n",
              "    </tr>\n",
              "    <tr>\n",
              "      <td>3</td>\n",
              "      <td>60182</td>\n",
              "      <td>Female</td>\n",
              "      <td>49.0</td>\n",
              "      <td>0</td>\n",
              "      <td>0</td>\n",
              "      <td>Yes</td>\n",
              "      <td>Private</td>\n",
              "      <td>Urban</td>\n",
              "      <td>171.23</td>\n",
              "      <td>34.4</td>\n",
              "      <td>smokes</td>\n",
              "      <td>1</td>\n",
              "    </tr>\n",
              "    <tr>\n",
              "      <td>4</td>\n",
              "      <td>1665</td>\n",
              "      <td>Female</td>\n",
              "      <td>79.0</td>\n",
              "      <td>1</td>\n",
              "      <td>0</td>\n",
              "      <td>Yes</td>\n",
              "      <td>Self-employed</td>\n",
              "      <td>Rural</td>\n",
              "      <td>174.12</td>\n",
              "      <td>24.0</td>\n",
              "      <td>never smoked</td>\n",
              "      <td>1</td>\n",
              "    </tr>\n",
              "    <tr>\n",
              "      <td>5</td>\n",
              "      <td>56669</td>\n",
              "      <td>Male</td>\n",
              "      <td>81.0</td>\n",
              "      <td>0</td>\n",
              "      <td>0</td>\n",
              "      <td>Yes</td>\n",
              "      <td>Private</td>\n",
              "      <td>Urban</td>\n",
              "      <td>186.21</td>\n",
              "      <td>29.0</td>\n",
              "      <td>formerly smoked</td>\n",
              "      <td>1</td>\n",
              "    </tr>\n",
              "    <tr>\n",
              "      <td>6</td>\n",
              "      <td>53882</td>\n",
              "      <td>Male</td>\n",
              "      <td>74.0</td>\n",
              "      <td>1</td>\n",
              "      <td>1</td>\n",
              "      <td>Yes</td>\n",
              "      <td>Private</td>\n",
              "      <td>Rural</td>\n",
              "      <td>70.09</td>\n",
              "      <td>27.4</td>\n",
              "      <td>never smoked</td>\n",
              "      <td>1</td>\n",
              "    </tr>\n",
              "    <tr>\n",
              "      <td>7</td>\n",
              "      <td>10434</td>\n",
              "      <td>Female</td>\n",
              "      <td>69.0</td>\n",
              "      <td>0</td>\n",
              "      <td>0</td>\n",
              "      <td>No</td>\n",
              "      <td>Private</td>\n",
              "      <td>Urban</td>\n",
              "      <td>94.39</td>\n",
              "      <td>22.8</td>\n",
              "      <td>never smoked</td>\n",
              "      <td>1</td>\n",
              "    </tr>\n",
              "    <tr>\n",
              "      <td>8</td>\n",
              "      <td>27419</td>\n",
              "      <td>Female</td>\n",
              "      <td>59.0</td>\n",
              "      <td>0</td>\n",
              "      <td>0</td>\n",
              "      <td>Yes</td>\n",
              "      <td>Private</td>\n",
              "      <td>Rural</td>\n",
              "      <td>76.15</td>\n",
              "      <td>NaN</td>\n",
              "      <td>Unknown</td>\n",
              "      <td>1</td>\n",
              "    </tr>\n",
              "    <tr>\n",
              "      <td>9</td>\n",
              "      <td>60491</td>\n",
              "      <td>Female</td>\n",
              "      <td>78.0</td>\n",
              "      <td>0</td>\n",
              "      <td>0</td>\n",
              "      <td>Yes</td>\n",
              "      <td>Private</td>\n",
              "      <td>Urban</td>\n",
              "      <td>58.57</td>\n",
              "      <td>24.2</td>\n",
              "      <td>Unknown</td>\n",
              "      <td>1</td>\n",
              "    </tr>\n",
              "    <tr>\n",
              "      <td>10</td>\n",
              "      <td>12109</td>\n",
              "      <td>Female</td>\n",
              "      <td>81.0</td>\n",
              "      <td>1</td>\n",
              "      <td>0</td>\n",
              "      <td>Yes</td>\n",
              "      <td>Private</td>\n",
              "      <td>Rural</td>\n",
              "      <td>80.43</td>\n",
              "      <td>29.7</td>\n",
              "      <td>never smoked</td>\n",
              "      <td>1</td>\n",
              "    </tr>\n",
              "    <tr>\n",
              "      <td>11</td>\n",
              "      <td>12095</td>\n",
              "      <td>Female</td>\n",
              "      <td>61.0</td>\n",
              "      <td>0</td>\n",
              "      <td>1</td>\n",
              "      <td>Yes</td>\n",
              "      <td>Govt_job</td>\n",
              "      <td>Rural</td>\n",
              "      <td>120.46</td>\n",
              "      <td>36.8</td>\n",
              "      <td>smokes</td>\n",
              "      <td>1</td>\n",
              "    </tr>\n",
              "    <tr>\n",
              "      <td>12</td>\n",
              "      <td>12175</td>\n",
              "      <td>Female</td>\n",
              "      <td>54.0</td>\n",
              "      <td>0</td>\n",
              "      <td>0</td>\n",
              "      <td>Yes</td>\n",
              "      <td>Private</td>\n",
              "      <td>Urban</td>\n",
              "      <td>104.51</td>\n",
              "      <td>27.3</td>\n",
              "      <td>smokes</td>\n",
              "      <td>1</td>\n",
              "    </tr>\n",
              "    <tr>\n",
              "      <td>13</td>\n",
              "      <td>8213</td>\n",
              "      <td>Male</td>\n",
              "      <td>78.0</td>\n",
              "      <td>0</td>\n",
              "      <td>1</td>\n",
              "      <td>Yes</td>\n",
              "      <td>Private</td>\n",
              "      <td>Urban</td>\n",
              "      <td>219.84</td>\n",
              "      <td>NaN</td>\n",
              "      <td>Unknown</td>\n",
              "      <td>1</td>\n",
              "    </tr>\n",
              "    <tr>\n",
              "      <td>14</td>\n",
              "      <td>5317</td>\n",
              "      <td>Female</td>\n",
              "      <td>79.0</td>\n",
              "      <td>0</td>\n",
              "      <td>1</td>\n",
              "      <td>Yes</td>\n",
              "      <td>Private</td>\n",
              "      <td>Urban</td>\n",
              "      <td>214.09</td>\n",
              "      <td>28.2</td>\n",
              "      <td>never smoked</td>\n",
              "      <td>1</td>\n",
              "    </tr>\n",
              "  </tbody>\n",
              "</table>\n",
              "</div>"
            ],
            "text/plain": [
              "       id  gender   age  hypertension  heart_disease ever_married  \\\n",
              "0    9046    Male  67.0             0              1          Yes   \n",
              "1   51676  Female  61.0             0              0          Yes   \n",
              "2   31112    Male  80.0             0              1          Yes   \n",
              "3   60182  Female  49.0             0              0          Yes   \n",
              "4    1665  Female  79.0             1              0          Yes   \n",
              "5   56669    Male  81.0             0              0          Yes   \n",
              "6   53882    Male  74.0             1              1          Yes   \n",
              "7   10434  Female  69.0             0              0           No   \n",
              "8   27419  Female  59.0             0              0          Yes   \n",
              "9   60491  Female  78.0             0              0          Yes   \n",
              "10  12109  Female  81.0             1              0          Yes   \n",
              "11  12095  Female  61.0             0              1          Yes   \n",
              "12  12175  Female  54.0             0              0          Yes   \n",
              "13   8213    Male  78.0             0              1          Yes   \n",
              "14   5317  Female  79.0             0              1          Yes   \n",
              "\n",
              "        work_type Residence_type  avg_glucose_level   bmi   smoking_status  \\\n",
              "0         Private          Urban             228.69  36.6  formerly smoked   \n",
              "1   Self-employed          Rural             202.21   NaN     never smoked   \n",
              "2         Private          Rural             105.92  32.5     never smoked   \n",
              "3         Private          Urban             171.23  34.4           smokes   \n",
              "4   Self-employed          Rural             174.12  24.0     never smoked   \n",
              "5         Private          Urban             186.21  29.0  formerly smoked   \n",
              "6         Private          Rural              70.09  27.4     never smoked   \n",
              "7         Private          Urban              94.39  22.8     never smoked   \n",
              "8         Private          Rural              76.15   NaN          Unknown   \n",
              "9         Private          Urban              58.57  24.2          Unknown   \n",
              "10        Private          Rural              80.43  29.7     never smoked   \n",
              "11       Govt_job          Rural             120.46  36.8           smokes   \n",
              "12        Private          Urban             104.51  27.3           smokes   \n",
              "13        Private          Urban             219.84   NaN          Unknown   \n",
              "14        Private          Urban             214.09  28.2     never smoked   \n",
              "\n",
              "    stroke  \n",
              "0        1  \n",
              "1        1  \n",
              "2        1  \n",
              "3        1  \n",
              "4        1  \n",
              "5        1  \n",
              "6        1  \n",
              "7        1  \n",
              "8        1  \n",
              "9        1  \n",
              "10       1  \n",
              "11       1  \n",
              "12       1  \n",
              "13       1  \n",
              "14       1  "
            ]
          },
          "execution_count": 8,
          "metadata": {},
          "output_type": "execute_result"
        }
      ],
      "source": [
        "# loading dataset\n",
        "data=pd.read_csv(\"D:/healthcare-dataset-stroke-data.xls\")\n",
        "data.head(15)"
      ]
    },
    {
      "cell_type": "code",
      "execution_count": null,
      "metadata": {
        "id": "RcAbnByM8qua",
        "outputId": "3f5d0c3c-780e-48b7-8417-ae13aeac4738"
      },
      "outputs": [
        {
          "data": {
            "text/html": [
              "<div>\n",
              "<style scoped>\n",
              "    .dataframe tbody tr th:only-of-type {\n",
              "        vertical-align: middle;\n",
              "    }\n",
              "\n",
              "    .dataframe tbody tr th {\n",
              "        vertical-align: top;\n",
              "    }\n",
              "\n",
              "    .dataframe thead th {\n",
              "        text-align: right;\n",
              "    }\n",
              "</style>\n",
              "<table border=\"1\" class=\"dataframe\">\n",
              "  <thead>\n",
              "    <tr style=\"text-align: right;\">\n",
              "      <th></th>\n",
              "      <th>id</th>\n",
              "      <th>age</th>\n",
              "      <th>hypertension</th>\n",
              "      <th>heart_disease</th>\n",
              "      <th>avg_glucose_level</th>\n",
              "      <th>bmi</th>\n",
              "      <th>stroke</th>\n",
              "    </tr>\n",
              "  </thead>\n",
              "  <tbody>\n",
              "    <tr>\n",
              "      <td>count</td>\n",
              "      <td>5110.000000</td>\n",
              "      <td>5110.000000</td>\n",
              "      <td>5110.000000</td>\n",
              "      <td>5110.000000</td>\n",
              "      <td>5110.000000</td>\n",
              "      <td>4909.000000</td>\n",
              "      <td>5110.000000</td>\n",
              "    </tr>\n",
              "    <tr>\n",
              "      <td>mean</td>\n",
              "      <td>36517.829354</td>\n",
              "      <td>43.226614</td>\n",
              "      <td>0.097456</td>\n",
              "      <td>0.054012</td>\n",
              "      <td>106.147677</td>\n",
              "      <td>28.893237</td>\n",
              "      <td>0.048728</td>\n",
              "    </tr>\n",
              "    <tr>\n",
              "      <td>std</td>\n",
              "      <td>21161.721625</td>\n",
              "      <td>22.612647</td>\n",
              "      <td>0.296607</td>\n",
              "      <td>0.226063</td>\n",
              "      <td>45.283560</td>\n",
              "      <td>7.854067</td>\n",
              "      <td>0.215320</td>\n",
              "    </tr>\n",
              "    <tr>\n",
              "      <td>min</td>\n",
              "      <td>67.000000</td>\n",
              "      <td>0.080000</td>\n",
              "      <td>0.000000</td>\n",
              "      <td>0.000000</td>\n",
              "      <td>55.120000</td>\n",
              "      <td>10.300000</td>\n",
              "      <td>0.000000</td>\n",
              "    </tr>\n",
              "    <tr>\n",
              "      <td>25%</td>\n",
              "      <td>17741.250000</td>\n",
              "      <td>25.000000</td>\n",
              "      <td>0.000000</td>\n",
              "      <td>0.000000</td>\n",
              "      <td>77.245000</td>\n",
              "      <td>23.500000</td>\n",
              "      <td>0.000000</td>\n",
              "    </tr>\n",
              "    <tr>\n",
              "      <td>50%</td>\n",
              "      <td>36932.000000</td>\n",
              "      <td>45.000000</td>\n",
              "      <td>0.000000</td>\n",
              "      <td>0.000000</td>\n",
              "      <td>91.885000</td>\n",
              "      <td>28.100000</td>\n",
              "      <td>0.000000</td>\n",
              "    </tr>\n",
              "    <tr>\n",
              "      <td>75%</td>\n",
              "      <td>54682.000000</td>\n",
              "      <td>61.000000</td>\n",
              "      <td>0.000000</td>\n",
              "      <td>0.000000</td>\n",
              "      <td>114.090000</td>\n",
              "      <td>33.100000</td>\n",
              "      <td>0.000000</td>\n",
              "    </tr>\n",
              "    <tr>\n",
              "      <td>max</td>\n",
              "      <td>72940.000000</td>\n",
              "      <td>82.000000</td>\n",
              "      <td>1.000000</td>\n",
              "      <td>1.000000</td>\n",
              "      <td>271.740000</td>\n",
              "      <td>97.600000</td>\n",
              "      <td>1.000000</td>\n",
              "    </tr>\n",
              "  </tbody>\n",
              "</table>\n",
              "</div>"
            ],
            "text/plain": [
              "                 id          age  hypertension  heart_disease  \\\n",
              "count   5110.000000  5110.000000   5110.000000    5110.000000   \n",
              "mean   36517.829354    43.226614      0.097456       0.054012   \n",
              "std    21161.721625    22.612647      0.296607       0.226063   \n",
              "min       67.000000     0.080000      0.000000       0.000000   \n",
              "25%    17741.250000    25.000000      0.000000       0.000000   \n",
              "50%    36932.000000    45.000000      0.000000       0.000000   \n",
              "75%    54682.000000    61.000000      0.000000       0.000000   \n",
              "max    72940.000000    82.000000      1.000000       1.000000   \n",
              "\n",
              "       avg_glucose_level          bmi       stroke  \n",
              "count        5110.000000  4909.000000  5110.000000  \n",
              "mean          106.147677    28.893237     0.048728  \n",
              "std            45.283560     7.854067     0.215320  \n",
              "min            55.120000    10.300000     0.000000  \n",
              "25%            77.245000    23.500000     0.000000  \n",
              "50%            91.885000    28.100000     0.000000  \n",
              "75%           114.090000    33.100000     0.000000  \n",
              "max           271.740000    97.600000     1.000000  "
            ]
          },
          "execution_count": 9,
          "metadata": {},
          "output_type": "execute_result"
        }
      ],
      "source": [
        "# describing data\n",
        "data.describe()"
      ]
    },
    {
      "cell_type": "code",
      "execution_count": null,
      "metadata": {
        "id": "kC9Qb4xT8qub",
        "outputId": "9a77fb43-ca1b-405f-e831-389289d30df5"
      },
      "outputs": [
        {
          "name": "stdout",
          "output_type": "stream",
          "text": [
            "<class 'pandas.core.frame.DataFrame'>\n",
            "RangeIndex: 5110 entries, 0 to 5109\n",
            "Data columns (total 12 columns):\n",
            "id                   5110 non-null int64\n",
            "gender               5110 non-null object\n",
            "age                  5110 non-null float64\n",
            "hypertension         5110 non-null int64\n",
            "heart_disease        5110 non-null int64\n",
            "ever_married         5110 non-null object\n",
            "work_type            5110 non-null object\n",
            "Residence_type       5110 non-null object\n",
            "avg_glucose_level    5110 non-null float64\n",
            "bmi                  4909 non-null float64\n",
            "smoking_status       5110 non-null object\n",
            "stroke               5110 non-null int64\n",
            "dtypes: float64(3), int64(4), object(5)\n",
            "memory usage: 479.2+ KB\n"
          ]
        }
      ],
      "source": [
        "#checking for data type\n",
        "data.info()"
      ]
    },
    {
      "cell_type": "markdown",
      "source": [
        "# **Preprocessing**"
      ],
      "metadata": {
        "id": "nuW3xlUf9Awk"
      }
    },
    {
      "cell_type": "code",
      "execution_count": null,
      "metadata": {
        "id": "q6XsgH068quc"
      },
      "outputs": [],
      "source": [
        "# in our model no need of id so dropping id from dataset\n",
        "data=data.drop('id',axis=1)\n"
      ]
    },
    {
      "cell_type": "code",
      "execution_count": null,
      "metadata": {
        "id": "vX8-1bCu8quc"
      },
      "outputs": [],
      "source": [
        "# replacing string value with no. in data\n",
        "data=data.replace({\n",
        "    'Yes':1,\n",
        "    'No':0\n",
        "})"
      ]
    },
    {
      "cell_type": "code",
      "execution_count": null,
      "metadata": {
        "id": "jzF9SCKb8qud",
        "outputId": "df25c81e-b271-4c80-99a4-1da6a3968238"
      },
      "outputs": [
        {
          "data": {
            "text/plain": [
              "array(['Private', 'Self-employed', 'Govt_job', 'children', 'Never_worked'],\n",
              "      dtype=object)"
            ]
          },
          "execution_count": 13,
          "metadata": {},
          "output_type": "execute_result"
        }
      ],
      "source": [
        "data['work_type'].unique()"
      ]
    },
    {
      "cell_type": "code",
      "execution_count": null,
      "metadata": {
        "id": "wUD7E__v8que"
      },
      "outputs": [],
      "source": [
        "data=data.replace({\n",
        "    'Private':4, 'Self-employed':1, 'Govt_job':2, 'children':0, 'Never_worked':3\n",
        "})"
      ]
    },
    {
      "cell_type": "code",
      "execution_count": null,
      "metadata": {
        "id": "nucDJkfF8quf"
      },
      "outputs": [],
      "source": [
        "data=data.replace({\n",
        "    'Urban':1, 'Rural':0\n",
        "})"
      ]
    },
    {
      "cell_type": "code",
      "execution_count": null,
      "metadata": {
        "id": "98pMmqkP8qug",
        "outputId": "d196530b-f3ee-428b-83cb-ebb5c6670156"
      },
      "outputs": [
        {
          "data": {
            "text/html": [
              "<div>\n",
              "<style scoped>\n",
              "    .dataframe tbody tr th:only-of-type {\n",
              "        vertical-align: middle;\n",
              "    }\n",
              "\n",
              "    .dataframe tbody tr th {\n",
              "        vertical-align: top;\n",
              "    }\n",
              "\n",
              "    .dataframe thead th {\n",
              "        text-align: right;\n",
              "    }\n",
              "</style>\n",
              "<table border=\"1\" class=\"dataframe\">\n",
              "  <thead>\n",
              "    <tr style=\"text-align: right;\">\n",
              "      <th></th>\n",
              "      <th>gender</th>\n",
              "      <th>age</th>\n",
              "      <th>hypertension</th>\n",
              "      <th>heart_disease</th>\n",
              "      <th>ever_married</th>\n",
              "      <th>work_type</th>\n",
              "      <th>Residence_type</th>\n",
              "      <th>avg_glucose_level</th>\n",
              "      <th>bmi</th>\n",
              "      <th>smoking_status</th>\n",
              "      <th>stroke</th>\n",
              "    </tr>\n",
              "  </thead>\n",
              "  <tbody>\n",
              "    <tr>\n",
              "      <td>0</td>\n",
              "      <td>Male</td>\n",
              "      <td>67.0</td>\n",
              "      <td>0</td>\n",
              "      <td>1</td>\n",
              "      <td>1</td>\n",
              "      <td>4</td>\n",
              "      <td>1</td>\n",
              "      <td>228.69</td>\n",
              "      <td>36.6</td>\n",
              "      <td>formerly smoked</td>\n",
              "      <td>1</td>\n",
              "    </tr>\n",
              "    <tr>\n",
              "      <td>1</td>\n",
              "      <td>Female</td>\n",
              "      <td>61.0</td>\n",
              "      <td>0</td>\n",
              "      <td>0</td>\n",
              "      <td>1</td>\n",
              "      <td>1</td>\n",
              "      <td>0</td>\n",
              "      <td>202.21</td>\n",
              "      <td>NaN</td>\n",
              "      <td>never smoked</td>\n",
              "      <td>1</td>\n",
              "    </tr>\n",
              "    <tr>\n",
              "      <td>2</td>\n",
              "      <td>Male</td>\n",
              "      <td>80.0</td>\n",
              "      <td>0</td>\n",
              "      <td>1</td>\n",
              "      <td>1</td>\n",
              "      <td>4</td>\n",
              "      <td>0</td>\n",
              "      <td>105.92</td>\n",
              "      <td>32.5</td>\n",
              "      <td>never smoked</td>\n",
              "      <td>1</td>\n",
              "    </tr>\n",
              "    <tr>\n",
              "      <td>3</td>\n",
              "      <td>Female</td>\n",
              "      <td>49.0</td>\n",
              "      <td>0</td>\n",
              "      <td>0</td>\n",
              "      <td>1</td>\n",
              "      <td>4</td>\n",
              "      <td>1</td>\n",
              "      <td>171.23</td>\n",
              "      <td>34.4</td>\n",
              "      <td>smokes</td>\n",
              "      <td>1</td>\n",
              "    </tr>\n",
              "    <tr>\n",
              "      <td>4</td>\n",
              "      <td>Female</td>\n",
              "      <td>79.0</td>\n",
              "      <td>1</td>\n",
              "      <td>0</td>\n",
              "      <td>1</td>\n",
              "      <td>1</td>\n",
              "      <td>0</td>\n",
              "      <td>174.12</td>\n",
              "      <td>24.0</td>\n",
              "      <td>never smoked</td>\n",
              "      <td>1</td>\n",
              "    </tr>\n",
              "    <tr>\n",
              "      <td>...</td>\n",
              "      <td>...</td>\n",
              "      <td>...</td>\n",
              "      <td>...</td>\n",
              "      <td>...</td>\n",
              "      <td>...</td>\n",
              "      <td>...</td>\n",
              "      <td>...</td>\n",
              "      <td>...</td>\n",
              "      <td>...</td>\n",
              "      <td>...</td>\n",
              "      <td>...</td>\n",
              "    </tr>\n",
              "    <tr>\n",
              "      <td>5105</td>\n",
              "      <td>Female</td>\n",
              "      <td>80.0</td>\n",
              "      <td>1</td>\n",
              "      <td>0</td>\n",
              "      <td>1</td>\n",
              "      <td>4</td>\n",
              "      <td>1</td>\n",
              "      <td>83.75</td>\n",
              "      <td>NaN</td>\n",
              "      <td>never smoked</td>\n",
              "      <td>0</td>\n",
              "    </tr>\n",
              "    <tr>\n",
              "      <td>5106</td>\n",
              "      <td>Female</td>\n",
              "      <td>81.0</td>\n",
              "      <td>0</td>\n",
              "      <td>0</td>\n",
              "      <td>1</td>\n",
              "      <td>1</td>\n",
              "      <td>1</td>\n",
              "      <td>125.20</td>\n",
              "      <td>40.0</td>\n",
              "      <td>never smoked</td>\n",
              "      <td>0</td>\n",
              "    </tr>\n",
              "    <tr>\n",
              "      <td>5107</td>\n",
              "      <td>Female</td>\n",
              "      <td>35.0</td>\n",
              "      <td>0</td>\n",
              "      <td>0</td>\n",
              "      <td>1</td>\n",
              "      <td>1</td>\n",
              "      <td>0</td>\n",
              "      <td>82.99</td>\n",
              "      <td>30.6</td>\n",
              "      <td>never smoked</td>\n",
              "      <td>0</td>\n",
              "    </tr>\n",
              "    <tr>\n",
              "      <td>5108</td>\n",
              "      <td>Male</td>\n",
              "      <td>51.0</td>\n",
              "      <td>0</td>\n",
              "      <td>0</td>\n",
              "      <td>1</td>\n",
              "      <td>4</td>\n",
              "      <td>0</td>\n",
              "      <td>166.29</td>\n",
              "      <td>25.6</td>\n",
              "      <td>formerly smoked</td>\n",
              "      <td>0</td>\n",
              "    </tr>\n",
              "    <tr>\n",
              "      <td>5109</td>\n",
              "      <td>Female</td>\n",
              "      <td>44.0</td>\n",
              "      <td>0</td>\n",
              "      <td>0</td>\n",
              "      <td>1</td>\n",
              "      <td>2</td>\n",
              "      <td>1</td>\n",
              "      <td>85.28</td>\n",
              "      <td>26.2</td>\n",
              "      <td>Unknown</td>\n",
              "      <td>0</td>\n",
              "    </tr>\n",
              "  </tbody>\n",
              "</table>\n",
              "<p>5110 rows × 11 columns</p>\n",
              "</div>"
            ],
            "text/plain": [
              "      gender   age  hypertension  heart_disease  ever_married  work_type  \\\n",
              "0       Male  67.0             0              1             1          4   \n",
              "1     Female  61.0             0              0             1          1   \n",
              "2       Male  80.0             0              1             1          4   \n",
              "3     Female  49.0             0              0             1          4   \n",
              "4     Female  79.0             1              0             1          1   \n",
              "...      ...   ...           ...            ...           ...        ...   \n",
              "5105  Female  80.0             1              0             1          4   \n",
              "5106  Female  81.0             0              0             1          1   \n",
              "5107  Female  35.0             0              0             1          1   \n",
              "5108    Male  51.0             0              0             1          4   \n",
              "5109  Female  44.0             0              0             1          2   \n",
              "\n",
              "      Residence_type  avg_glucose_level   bmi   smoking_status  stroke  \n",
              "0                  1             228.69  36.6  formerly smoked       1  \n",
              "1                  0             202.21   NaN     never smoked       1  \n",
              "2                  0             105.92  32.5     never smoked       1  \n",
              "3                  1             171.23  34.4           smokes       1  \n",
              "4                  0             174.12  24.0     never smoked       1  \n",
              "...              ...                ...   ...              ...     ...  \n",
              "5105               1              83.75   NaN     never smoked       0  \n",
              "5106               1             125.20  40.0     never smoked       0  \n",
              "5107               0              82.99  30.6     never smoked       0  \n",
              "5108               0             166.29  25.6  formerly smoked       0  \n",
              "5109               1              85.28  26.2          Unknown       0  \n",
              "\n",
              "[5110 rows x 11 columns]"
            ]
          },
          "execution_count": 16,
          "metadata": {},
          "output_type": "execute_result"
        }
      ],
      "source": [
        "data"
      ]
    },
    {
      "cell_type": "code",
      "execution_count": null,
      "metadata": {
        "id": "dwfuaOJR8qug"
      },
      "outputs": [],
      "source": [
        "data=data.replace({\n",
        "    'Male':2,'Female':1,'Other':0\n",
        "})"
      ]
    },
    {
      "cell_type": "code",
      "execution_count": null,
      "metadata": {
        "id": "m2nV3mzr8quh",
        "outputId": "cdc3a788-58a6-4cd0-870d-367ea71ed152"
      },
      "outputs": [
        {
          "data": {
            "text/plain": [
              "array(['formerly smoked', 'never smoked', 'smokes', 'Unknown'],\n",
              "      dtype=object)"
            ]
          },
          "execution_count": 18,
          "metadata": {},
          "output_type": "execute_result"
        }
      ],
      "source": [
        "data['smoking_status'].unique()\n"
      ]
    },
    {
      "cell_type": "code",
      "execution_count": null,
      "metadata": {
        "id": "o4bb59J48qui",
        "outputId": "93186221-4dab-4395-fcde-7290f0d85f6e"
      },
      "outputs": [
        {
          "data": {
            "text/plain": [
              "array([2, 1, 0], dtype=int64)"
            ]
          },
          "execution_count": 19,
          "metadata": {},
          "output_type": "execute_result"
        }
      ],
      "source": [
        "data['gender'].unique()"
      ]
    },
    {
      "cell_type": "code",
      "execution_count": null,
      "metadata": {
        "id": "k87bwnj_8qui"
      },
      "outputs": [],
      "source": [
        "# dropping nan values from dataset\n",
        "data=data.replace({\n",
        "    'Unknown':np.NaN\n",
        "})"
      ]
    },
    {
      "cell_type": "code",
      "execution_count": null,
      "metadata": {
        "id": "qdoJr7jR8quj",
        "outputId": "9e3b4364-7c1f-4fe0-e814-9a768c8ca8b9"
      },
      "outputs": [
        {
          "data": {
            "text/plain": [
              "0    4861\n",
              "1     249\n",
              "Name: stroke, dtype: int64"
            ]
          },
          "execution_count": 21,
          "metadata": {},
          "output_type": "execute_result"
        }
      ],
      "source": [
        "data['stroke'].value_counts()"
      ]
    },
    {
      "cell_type": "code",
      "execution_count": null,
      "metadata": {
        "id": "bWXbSMVK8quj"
      },
      "outputs": [],
      "source": [
        "data=data.dropna(axis=0)"
      ]
    },
    {
      "cell_type": "code",
      "execution_count": null,
      "metadata": {
        "id": "T0DePyaA8quk"
      },
      "outputs": [],
      "source": [
        "data=data.replace({\n",
        "    'formerly smoked':1, 'never smoked':0, 'smokes':2\n",
        "})"
      ]
    },
    {
      "cell_type": "code",
      "execution_count": null,
      "metadata": {
        "id": "Heeqr0-88qul"
      },
      "outputs": [],
      "source": [
        "#its seen that some coloumns are not needed to make our model so dropping those coloumn"
      ]
    },
    {
      "cell_type": "code",
      "execution_count": null,
      "metadata": {
        "id": "IAzplyXY8qul",
        "outputId": "d1ae563e-7a08-4beb-8ea2-a791897af296"
      },
      "outputs": [
        {
          "data": {
            "text/plain": [
              "0       2\n",
              "2       2\n",
              "3       1\n",
              "4       1\n",
              "5       2\n",
              "       ..\n",
              "5100    2\n",
              "5102    1\n",
              "5106    1\n",
              "5107    1\n",
              "5108    2\n",
              "Name: gender, Length: 3426, dtype: int64"
            ]
          },
          "execution_count": 24,
          "metadata": {},
          "output_type": "execute_result"
        }
      ],
      "source": [
        "data.pop(\"gender\")"
      ]
    },
    {
      "cell_type": "code",
      "execution_count": null,
      "metadata": {
        "id": "giv9Zl2S8qul",
        "outputId": "19ae8010-5dc7-460d-e957-89f287aea592"
      },
      "outputs": [
        {
          "data": {
            "text/plain": [
              "0       1\n",
              "2       0\n",
              "3       1\n",
              "4       0\n",
              "5       1\n",
              "       ..\n",
              "5100    0\n",
              "5102    0\n",
              "5106    1\n",
              "5107    0\n",
              "5108    0\n",
              "Name: Residence_type, Length: 3426, dtype: int64"
            ]
          },
          "execution_count": 25,
          "metadata": {},
          "output_type": "execute_result"
        }
      ],
      "source": [
        "data.pop(\"Residence_type\")"
      ]
    },
    {
      "cell_type": "code",
      "execution_count": null,
      "metadata": {
        "id": "Fz9vXWEg8qum",
        "outputId": "4440cc36-364d-42b8-aadd-de184000e5e3"
      },
      "outputs": [
        {
          "data": {
            "text/plain": [
              "0       1\n",
              "2       1\n",
              "3       1\n",
              "4       1\n",
              "5       1\n",
              "       ..\n",
              "5100    1\n",
              "5102    1\n",
              "5106    1\n",
              "5107    1\n",
              "5108    1\n",
              "Name: ever_married, Length: 3426, dtype: int64"
            ]
          },
          "execution_count": 26,
          "metadata": {},
          "output_type": "execute_result"
        }
      ],
      "source": [
        "data.pop('ever_married')"
      ]
    },
    {
      "cell_type": "code",
      "execution_count": null,
      "metadata": {
        "id": "muI9D2tn8qun",
        "outputId": "23d00347-9009-4c06-8369-263ecbfc9854"
      },
      "outputs": [
        {
          "data": {
            "text/plain": [
              "0       4\n",
              "2       4\n",
              "3       4\n",
              "4       1\n",
              "5       4\n",
              "       ..\n",
              "5100    1\n",
              "5102    4\n",
              "5106    1\n",
              "5107    1\n",
              "5108    4\n",
              "Name: work_type, Length: 3426, dtype: int64"
            ]
          },
          "execution_count": 27,
          "metadata": {},
          "output_type": "execute_result"
        }
      ],
      "source": [
        "data.pop('work_type')"
      ]
    },
    {
      "cell_type": "code",
      "execution_count": null,
      "metadata": {
        "id": "mNo_ITHh8qun",
        "outputId": "e0b176df-e60e-4e10-bdda-54f3ca0fba81"
      },
      "outputs": [
        {
          "data": {
            "text/plain": [
              "0       1\n",
              "2       0\n",
              "3       2\n",
              "4       0\n",
              "5       1\n",
              "       ..\n",
              "5100    0\n",
              "5102    0\n",
              "5106    0\n",
              "5107    0\n",
              "5108    1\n",
              "Name: smoking_status, Length: 3426, dtype: int64"
            ]
          },
          "execution_count": 28,
          "metadata": {},
          "output_type": "execute_result"
        }
      ],
      "source": [
        "data.pop('smoking_status')"
      ]
    },
    {
      "cell_type": "markdown",
      "source": [
        "# **Importing library for Machine learnig model**"
      ],
      "metadata": {
        "id": "dvxcC17H9Ids"
      }
    },
    {
      "cell_type": "code",
      "execution_count": null,
      "metadata": {
        "id": "k8ka1ISd8quo"
      },
      "outputs": [],
      "source": [
        "#importing library which can be use for model\n",
        "import matplotlib.pyplot as plt\n",
        "%matplotlib inline"
      ]
    },
    {
      "cell_type": "code",
      "execution_count": null,
      "metadata": {
        "id": "H1wCRDCE8quo"
      },
      "outputs": [],
      "source": [
        "from sklearn.linear_model import LogisticRegression\n",
        "from sklearn.tree import DecisionTreeClassifier\n",
        "from sklearn.svm import SVC\n",
        "from sklearn.ensemble import RandomForestClassifier\n"
      ]
    },
    {
      "cell_type": "code",
      "execution_count": null,
      "metadata": {
        "id": "G2dgWDuo8qup"
      },
      "outputs": [],
      "source": [
        "from sklearn.model_selection import train_test_split\n"
      ]
    },
    {
      "cell_type": "code",
      "execution_count": null,
      "metadata": {
        "id": "opBIZZku8qup"
      },
      "outputs": [],
      "source": [
        "# extracting label and features in y and x\n",
        "x=data.iloc[:,0:10]\n",
        "y=data.iloc[:,-1]\n"
      ]
    },
    {
      "cell_type": "code",
      "execution_count": null,
      "metadata": {
        "id": "S18HsNpO8qup"
      },
      "outputs": [],
      "source": [
        "# splitting data into training and testing\n",
        "xtrain,xtest,ytrain,ytest=train_test_split(x,y,test_size=0.1)"
      ]
    },
    {
      "cell_type": "code",
      "execution_count": null,
      "metadata": {
        "id": "Jz0BOPwD8qup"
      },
      "outputs": [],
      "source": [
        "#libraray for tuning our data\n",
        "from sklearn.model_selection import GridSearchCV\n",
        "from sklearn.metrics import make_scorer\n",
        "from sklearn.metrics import recall_score\n",
        "from sklearn.metrics import roc_auc_score\n"
      ]
    },
    {
      "cell_type": "markdown",
      "source": [
        "# **Tunning data**"
      ],
      "metadata": {
        "id": "GdaBTuxu96hU"
      }
    },
    {
      "cell_type": "code",
      "execution_count": null,
      "metadata": {
        "id": "XElXrYXf8quq"
      },
      "outputs": [],
      "source": [
        "# function for tuning\n",
        "def tunning_decision_tree(x,y):\n",
        "    dt_clf=DecisionTreeClassifier(random_state=5)\n",
        "    scorer=make_scorer(roc_auc_score)\n",
        "    parameters={\"criterion\":['gini', 'entropy'],'splitter':['best','random'],'max_depth':range(1,8),'min_samples_split':range(2,4),'min_samples_leaf':[0.1,0.2,0.3,0.4,0.5]\n",
        "               ,\"max_features\":['auto', 'sqrt', 'log2'],'max_leaf_nodes':range(2,5)}\n",
        "    obj=GridSearchCV(dt_clf,parameters,scoring=scorer,cv=shuffle())\n",
        "    obj=obj.fit(x,y)\n",
        "    best_clf=obj.best_estimator_\n",
        "    print(best_clf)\n",
        "    return best_clf\n",
        "    "
      ]
    },
    {
      "cell_type": "code",
      "execution_count": null,
      "metadata": {
        "id": "_JkBMkQN8quq"
      },
      "outputs": [],
      "source": [
        "from sklearn.ensemble import RandomForestClassifier\n",
        "def tunning_tree(x,y):\n",
        "    dt_clf=RandomForestClassifier()\n",
        "    scorer=make_scorer(roc_auc_score)\n",
        "    parameters={'n_estimators':[10,20,30,40,50,60,70,80,90,100],'criterion':['gini','entropy']}\n",
        "    obj=GridSearchCV(dt_clf,parameters,scoring=scorer,cv=shuffle())\n",
        "    obj=obj.fit(x,y)\n",
        "    best_clf=obj.best_estimator_\n",
        "    print(best_clf)\n",
        "    return best_clf"
      ]
    },
    {
      "cell_type": "code",
      "execution_count": null,
      "metadata": {
        "id": "-9do5K0E8quq"
      },
      "outputs": [],
      "source": [
        "# shuffling our data for cross-validation data\n",
        "from sklearn.model_selection import ShuffleSplit\n",
        "def shuffle(n_split=10,test_siz=0.2,random_stat=5):\n",
        "    sset=ShuffleSplit(n_splits=n_split,test_size=test_siz,random_state=random_stat)\n",
        "    return sset"
      ]
    },
    {
      "cell_type": "markdown",
      "source": [
        "# **Evaluating model**"
      ],
      "metadata": {
        "id": "fbp0fZ-F9-oU"
      }
    },
    {
      "cell_type": "code",
      "execution_count": null,
      "metadata": {
        "id": "jVwCGqoc8qur"
      },
      "outputs": [],
      "source": [
        "# evaluating our model\n",
        "from sklearn.model_selection import learning_curve\n",
        "def learning_graph(estimator,x,y):\n",
        "    train_size,train_score,test_score=learning_curve(estimator,x,y,cv=shuffle(),train_sizes=np.linspace(0.1,1.0,10))\n",
        "    train_scores_mean=np.mean(train_score,axis=1)\n",
        "    test_scores_mean=np.mean(test_score,axis=0)\n",
        "    plt.grid()\n",
        "    plt.plot(train_scores_mean,'o-',color='g')\n",
        "    plt.plot(test_scores_mean,'o-',color='r')\n",
        "    plt.show()"
      ]
    },
    {
      "cell_type": "code",
      "execution_count": null,
      "metadata": {
        "id": "dojl-5Da8qur",
        "outputId": "c96c9853-fca9-4e77-8042-e086724afeeb"
      },
      "outputs": [
        {
          "name": "stdout",
          "output_type": "stream",
          "text": [
            "RandomForestClassifier(bootstrap=True, class_weight=None, criterion='gini',\n",
            "                       max_depth=None, max_features='auto', max_leaf_nodes=None,\n",
            "                       min_impurity_decrease=0.0, min_impurity_split=None,\n",
            "                       min_samples_leaf=1, min_samples_split=2,\n",
            "                       min_weight_fraction_leaf=0.0, n_estimators=10,\n",
            "                       n_jobs=None, oob_score=False, random_state=None,\n",
            "                       verbose=0, warm_start=False)\n"
          ]
        }
      ],
      "source": [
        "clf =tunning_tree(xtrain,ytrain)"
      ]
    },
    {
      "cell_type": "code",
      "execution_count": null,
      "metadata": {
        "id": "jH6pgZAj8qur",
        "outputId": "5f22b881-7a40-46fc-9ff1-030c2c140ddf"
      },
      "outputs": [
        {
          "data": {
            "image/png": "[encoded data removed]",
            "text/plain": [
              "<Figure size 432x288 with 1 Axes>"
            ]
          },
          "metadata": {
            "needs_background": "light"
          },
          "output_type": "display_data"
        }
      ],
      "source": [
        "learning_graph(clf,xtrain,ytrain)"
      ]
    },
    {
      "cell_type": "code",
      "execution_count": null,
      "metadata": {
        "id": "KPLaGLO38qur"
      },
      "outputs": [],
      "source": [
        "pred=clf.predict(xtest)"
      ]
    },
    {
      "cell_type": "code",
      "execution_count": null,
      "metadata": {
        "id": "R7Yzv3mS8qus",
        "outputId": "a085b3f7-8804-4add-f424-919676433544"
      },
      "outputs": [
        {
          "data": {
            "text/plain": [
              "1.0"
            ]
          },
          "execution_count": 42,
          "metadata": {},
          "output_type": "execute_result"
        }
      ],
      "source": [
        "from sklearn.metrics import roc_auc_score\n",
        "auc=roc_auc_score(ytest,pred)\n",
        "auc"
      ]
    },
    {
      "cell_type": "code",
      "execution_count": null,
      "metadata": {
        "id": "5nmPk4o38qus"
      },
      "outputs": [],
      "source": [
        "from sklearn.metrics import roc_curve\n",
        "def roc_c(ytest,prediction):\n",
        "    fpr,tpr,threshold=roc_curve(ytest,prediction)\n",
        "    plt.grid()\n",
        "    plt.plot(fpr,tpr)\n",
        "    plt.legend(\"roc curve\")\n",
        "    plt.show()\n",
        "    \n",
        "    "
      ]
    },
    {
      "cell_type": "code",
      "execution_count": null,
      "metadata": {
        "id": "d-Nyr5QS8qus",
        "outputId": "4671b89e-1fc4-4035-f9f2-1bc574fb21d8"
      },
      "outputs": [
        {
          "data": {
            "image/png": "[encoded data removed]",
            "text/plain": [
              "<Figure size 432x288 with 1 Axes>"
            ]
          },
          "metadata": {
            "needs_background": "light"
          },
          "output_type": "display_data"
        }
      ],
      "source": [
        "roc_c(ytest,pred)"
      ]
    },
    {
      "cell_type": "code",
      "execution_count": null,
      "metadata": {
        "id": "CdNAbsS78qut",
        "outputId": "327a6497-1a49-4920-f82a-a57c268d25cc"
      },
      "outputs": [
        {
          "name": "stdout",
          "output_type": "stream",
          "text": [
            "[0. 0. 1.] [0. 1. 1.] [2 1 0]\n"
          ]
        }
      ],
      "source": [
        "fpr,tpr,threshold=roc_curve(ytest,pred)\n",
        "print(fpr,tpr,threshold)"
      ]
    },
    {
      "cell_type": "code",
      "execution_count": null,
      "metadata": {
        "id": "19ncGcyv8qut",
        "outputId": "c7d8739c-3a11-41f3-ee53-f4c15a002e01"
      },
      "outputs": [
        {
          "name": "stdout",
          "output_type": "stream",
          "text": [
            "[[329   0]\n",
            " [  0  14]]\n"
          ]
        }
      ],
      "source": [
        "from sklearn.metrics import confusion_matrix\n",
        "print(confusion_matrix(ytest,pred))"
      ]
    },
    {
      "cell_type": "code",
      "execution_count": null,
      "metadata": {
        "id": "UCTBnbwn8qut"
      },
      "outputs": [],
      "source": [
        "import pickle\n"
      ]
    },
    {
      "cell_type": "code",
      "execution_count": null,
      "metadata": {
        "id": "P-mROhDR8qut"
      },
      "outputs": [],
      "source": [
        "#dumping model"
      ]
    },
    {
      "cell_type": "code",
      "execution_count": null,
      "metadata": {
        "id": "sPuQBPq48quu"
      },
      "outputs": [],
      "source": [
        "Pkl_Filename = \"brain_stokes_model.pkl\"  \n",
        "\n",
        "with open(Pkl_Filename, 'wb') as file:  \n",
        "    pickle.dump(clf, file)"
      ]
    },
    {
      "cell_type": "code",
      "execution_count": null,
      "metadata": {
        "id": "mDcLTH0o8quu"
      },
      "outputs": [],
      "source": [
        "#loading model"
      ]
    },
    {
      "cell_type": "code",
      "execution_count": null,
      "metadata": {
        "id": "IwJNH0dy8quu",
        "outputId": "36b0bcce-e9e1-4a24-bbb5-094a63f32713"
      },
      "outputs": [
        {
          "data": {
            "text/plain": [
              "RandomForestClassifier(bootstrap=True, class_weight=None, criterion='gini',\n",
              "                       max_depth=None, max_features='auto', max_leaf_nodes=None,\n",
              "                       min_impurity_decrease=0.0, min_impurity_split=None,\n",
              "                       min_samples_leaf=1, min_samples_split=2,\n",
              "                       min_weight_fraction_leaf=0.0, n_estimators=10,\n",
              "                       n_jobs=None, oob_score=False, random_state=None,\n",
              "                       verbose=0, warm_start=False)"
            ]
          },
          "execution_count": 62,
          "metadata": {},
          "output_type": "execute_result"
        }
      ],
      "source": [
        "with open(Pkl_Filename, 'rb') as file:  \n",
        "    Pickled_LR_Model = pickle.load(file)\n",
        "\n",
        "Pickled_LR_Model"
      ]
    },
    {
      "cell_type": "code",
      "execution_count": null,
      "metadata": {
        "id": "0H3WHwjg8quu"
      },
      "outputs": [],
      "source": [
        ""
      ]
    },
    {
      "cell_type": "markdown",
      "metadata": {
        "id": "pMiPo-648quv"
      },
      "source": [
        ""
      ]
    }
  ],
  "metadata": {
    "kernelspec": {
      "display_name": "Python 3",
      "language": "python",
      "name": "python3"
    },
    "language_info": {
      "codemirror_mode": {
        "name": "ipython",
        "version": 3
      },
      "file_extension": ".py",
      "mimetype": "text/x-python",
      "name": "python",
      "nbconvert_exporter": "python",
      "pygments_lexer": "ipython3",
      "version": "3.7.4"
    },
    "colab": {
      "name": "brain_stroke_prediction.ipynb",
      "provenance": [],
      "collapsed_sections": []
    }
  },
  "nbformat": 4,
  "nbformat_minor": 0
}